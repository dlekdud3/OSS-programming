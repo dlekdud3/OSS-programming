{
  "nbformat": 4,
  "nbformat_minor": 0,
  "metadata": {
    "colab": {
      "provenance": []
    },
    "kernelspec": {
      "name": "python3",
      "display_name": "Python 3"
    },
    "language_info": {
      "name": "python"
    }
  },
  "cells": [
    {
      "cell_type": "code",
      "execution_count": null,
      "metadata": {
        "colab": {
          "base_uri": "https://localhost:8080/"
        },
        "id": "SCwRVAcfHsz5",
        "outputId": "c9f51497-0947-4d95-a716-7024a13a9f47"
      },
      "outputs": [
        {
          "output_type": "stream",
          "name": "stdout",
          "text": [
            "[36, 42, 38, 33, 64]\n"
          ]
        }
      ],
      "source": [
        "#1\n",
        "symbols = \"$*&!@\"\n",
        "codes = []\n",
        "\n",
        "for symbol in symbols:\n",
        "  codes.append(ord(symbol))\n",
        "\n",
        "print(codes)"
      ]
    },
    {
      "cell_type": "code",
      "source": [
        "#2\n",
        "symbols = \"$*&!@\"\n",
        "\n",
        "codes = [ord(symbol) for symbol in symbols]\n",
        "\n",
        "print(codes)"
      ],
      "metadata": {
        "colab": {
          "base_uri": "https://localhost:8080/"
        },
        "id": "4e2Sj5-dIESi",
        "outputId": "475db512-f5ec-4d6e-986f-cd64c482645a"
      },
      "execution_count": null,
      "outputs": [
        {
          "output_type": "stream",
          "name": "stdout",
          "text": [
            "[36, 42, 38, 33, 64]\n"
          ]
        }
      ]
    },
    {
      "cell_type": "code",
      "source": [
        "#3\n",
        "x = '\"!~$$*&!@'\n",
        "dummy = [ord(x) for x in x]\n",
        "\n",
        "print(x)\n",
        "print(dummy)"
      ],
      "metadata": {
        "colab": {
          "base_uri": "https://localhost:8080/"
        },
        "id": "XKesRUE6IEPi",
        "outputId": "d6aa62ac-4688-4a06-f714-723d44711520"
      },
      "execution_count": null,
      "outputs": [
        {
          "output_type": "stream",
          "name": "stdout",
          "text": [
            "\"!~$$*&!@\n",
            "[34, 33, 126, 36, 36, 42, 38, 33, 64]\n"
          ]
        }
      ]
    },
    {
      "cell_type": "code",
      "source": [
        "#4\n",
        "symbols = '\"!~$$*&!@'\n",
        "beyond_ascii = [ord(s) for s in symbols if ord(s)>32]\n",
        "\n",
        "print(beyond_ascii)"
      ],
      "metadata": {
        "colab": {
          "base_uri": "https://localhost:8080/"
        },
        "id": "ALuWWk4vIEMq",
        "outputId": "b7b3affa-8a99-4dea-84fb-72504724d21e"
      },
      "execution_count": null,
      "outputs": [
        {
          "output_type": "stream",
          "name": "stdout",
          "text": [
            "[34, 33, 126, 36, 36, 42, 38, 33, 64]\n"
          ]
        }
      ]
    },
    {
      "cell_type": "code",
      "source": [
        "#5\n",
        "symbols = '\"!~$$*&!@'\n",
        "beyond_ascii = list(filter(lambda c: c>64, map(ord, symbols)))\n",
        "\n",
        "print(beyond_ascii, '\\n')\n",
        "\n",
        "print(f\"Map funcion:\\n>>> {map(ord, symbols)}\")\n",
        "print(f\"List after map\\n>>> {list(map(ord, symbols))}\")"
      ],
      "metadata": {
        "colab": {
          "base_uri": "https://localhost:8080/"
        },
        "id": "uQ1Mq4kmIEJa",
        "outputId": "9d077c49-3351-4a78-b10c-738026e1b349"
      },
      "execution_count": null,
      "outputs": [
        {
          "output_type": "stream",
          "name": "stdout",
          "text": [
            "[126] \n",
            "\n",
            "Map funcion:\n",
            ">>> <map object at 0x7b576615abc0>\n",
            "List after map\n",
            ">>> [34, 33, 126, 36, 36, 42, 38, 33, 64]\n"
          ]
        }
      ]
    },
    {
      "cell_type": "code",
      "source": [
        "#6\n",
        "colors = ['black', 'white']\n",
        "sizes = ['S', 'M', 'L']\n",
        "tshirts = [(color, size) for color in colors for size in sizes]\n",
        "\n",
        "print(tshirts)\n",
        "\n",
        "for color in colors:\n",
        "  for size in sizes:\n",
        "    print((color, size))"
      ],
      "metadata": {
        "colab": {
          "base_uri": "https://localhost:8080/"
        },
        "id": "Vl_mtDO3IEGa",
        "outputId": "77ba59d6-6e61-4c80-f256-2ebe0bc9288f"
      },
      "execution_count": null,
      "outputs": [
        {
          "output_type": "stream",
          "name": "stdout",
          "text": [
            "[('black', 'S'), ('black', 'M'), ('black', 'L'), ('white', 'S'), ('white', 'M'), ('white', 'L')]\n",
            "('black', 'S')\n",
            "('black', 'M')\n",
            "('black', 'L')\n",
            "('white', 'S')\n",
            "('white', 'M')\n",
            "('white', 'L')\n"
          ]
        }
      ]
    },
    {
      "cell_type": "code",
      "source": [
        "#7\n",
        "symbols = \"!#^&&#\"\n",
        "ord_s = tuple(ord(s) for s in symbols if ord(s))\n",
        "\n",
        "print(ord_s)"
      ],
      "metadata": {
        "colab": {
          "base_uri": "https://localhost:8080/"
        },
        "id": "XLTvg2CuIECy",
        "outputId": "e18220a9-0dc8-4782-d4f8-9e4874ba8057"
      },
      "execution_count": null,
      "outputs": [
        {
          "output_type": "stream",
          "name": "stdout",
          "text": [
            "(33, 35, 94, 38, 38, 35)\n"
          ]
        }
      ]
    },
    {
      "cell_type": "code",
      "source": [
        "#7\n",
        "import array\n",
        "\n",
        "ord_s = array.array('I', (ord(symbol) for symbol in symbols))\n",
        "\n",
        "print(ord_s)"
      ],
      "metadata": {
        "colab": {
          "base_uri": "https://localhost:8080/"
        },
        "id": "8NNLNAnDID_q",
        "outputId": "6a3a799b-b3f1-4bb2-9fab-d57067af0d77"
      },
      "execution_count": null,
      "outputs": [
        {
          "output_type": "stream",
          "name": "stdout",
          "text": [
            "array('I', [33, 35, 94, 38, 38, 35])\n"
          ]
        }
      ]
    },
    {
      "cell_type": "code",
      "source": [
        "#8\n",
        "colors = ['black','white']\n",
        "sizes = ['S', 'M', 'L']\n",
        "\n",
        "for tshirt in ('{} {}'.format(c,s) for s in sizes for c in colors):\n",
        "  print(tshirt)\n"
      ],
      "metadata": {
        "colab": {
          "base_uri": "https://localhost:8080/"
        },
        "id": "chkGuy7FID8y",
        "outputId": "218cf98a-5e7b-43cb-f541-f7d87b091a6a"
      },
      "execution_count": null,
      "outputs": [
        {
          "output_type": "stream",
          "name": "stdout",
          "text": [
            "black S\n",
            "white S\n",
            "black M\n",
            "white M\n",
            "black L\n",
            "white L\n"
          ]
        }
      ]
    },
    {
      "cell_type": "code",
      "source": [
        "#9\n",
        "lax_coordinates = (33.9425, -118.408056)\n",
        "city, year, pop, chg, area = ('Tokyo', 2003, 32450, 0.66, 8014)\n",
        "traveler_ids = [('USA', '31195855'), ('BRA', 'CE342567'), ('ESP', 'XDA205856')]\n",
        "\n",
        "for passport in sorted(traveler_ids):\n",
        "  print('%s\\%s' % passport)\n",
        "  print('{}/{}'.format(passport[0], passport[1]))\n",
        "  print(f'{passport[0]}/{passport[1]}')"
      ],
      "metadata": {
        "colab": {
          "base_uri": "https://localhost:8080/"
        },
        "id": "n4yWMk-JID5S",
        "outputId": "8af451a9-9712-46bf-ae79-8c741ebc6938"
      },
      "execution_count": null,
      "outputs": [
        {
          "output_type": "stream",
          "name": "stdout",
          "text": [
            "BRA\\CE342567\n",
            "BRA/CE342567\n",
            "BRA/CE342567\n",
            "ESP\\XDA205856\n",
            "ESP/XDA205856\n",
            "ESP/XDA205856\n",
            "USA\\31195855\n",
            "USA/31195855\n",
            "USA/31195855\n"
          ]
        }
      ]
    },
    {
      "cell_type": "code",
      "source": [
        "#10\n",
        "for country, _ in traveler_ids:\n",
        "  print(country)"
      ],
      "metadata": {
        "colab": {
          "base_uri": "https://localhost:8080/"
        },
        "id": "3laLmOdjID2C",
        "outputId": "f67c8c33-99cf-41c5-c636-acb9b4899ddb"
      },
      "execution_count": null,
      "outputs": [
        {
          "output_type": "stream",
          "name": "stdout",
          "text": [
            "USA\n",
            "BRA\n",
            "ESP\n"
          ]
        }
      ]
    },
    {
      "cell_type": "code",
      "source": [
        "#11\n",
        "lax_coordinates = (33.9425, -118.408056)\n",
        "latitude, longitude = lax_coordinates\n",
        "\n",
        "print(latitude)\n",
        "print(longitude)"
      ],
      "metadata": {
        "colab": {
          "base_uri": "https://localhost:8080/"
        },
        "id": "A6E9mQGhIDzD",
        "outputId": "56130006-4f76-4228-b3d0-d258166ec99f"
      },
      "execution_count": null,
      "outputs": [
        {
          "output_type": "stream",
          "name": "stdout",
          "text": [
            "33.9425\n",
            "-118.408056\n"
          ]
        }
      ]
    },
    {
      "cell_type": "code",
      "source": [
        "#12\n",
        "a=10; b=20\n",
        "b,a = a,b\n",
        "print(a,b)"
      ],
      "metadata": {
        "colab": {
          "base_uri": "https://localhost:8080/"
        },
        "id": "nA2STPG0IDvz",
        "outputId": "82012959-822e-4f39-a8c3-d5ca2eab3165"
      },
      "execution_count": null,
      "outputs": [
        {
          "output_type": "stream",
          "name": "stdout",
          "text": [
            "20 10\n"
          ]
        }
      ]
    },
    {
      "cell_type": "code",
      "source": [
        "#13\n",
        "divmod(20,8)"
      ],
      "metadata": {
        "colab": {
          "base_uri": "https://localhost:8080/"
        },
        "id": "LZA1n-IFIDsq",
        "outputId": "55eed4b7-a855-4845-e090-1c0c5cf26c6e"
      },
      "execution_count": null,
      "outputs": [
        {
          "output_type": "execute_result",
          "data": {
            "text/plain": [
              "(2, 4)"
            ]
          },
          "metadata": {},
          "execution_count": 20
        }
      ]
    },
    {
      "cell_type": "code",
      "source": [
        "t=(20,8)\n",
        "divmod(*t)\n"
      ],
      "metadata": {
        "colab": {
          "base_uri": "https://localhost:8080/"
        },
        "id": "WG4YggbdNMiY",
        "outputId": "a856a401-8a75-4e7b-c0d2-84e36666871f"
      },
      "execution_count": null,
      "outputs": [
        {
          "output_type": "execute_result",
          "data": {
            "text/plain": [
              "(2, 4)"
            ]
          },
          "metadata": {},
          "execution_count": 21
        }
      ]
    },
    {
      "cell_type": "code",
      "source": [
        "quotient, remainder = divmod(*t)\n",
        "quotient, remainder"
      ],
      "metadata": {
        "colab": {
          "base_uri": "https://localhost:8080/"
        },
        "id": "nXZ28WvANMbJ",
        "outputId": "a82e0cf9-4305-4cfb-c842-2dd80302aed4"
      },
      "execution_count": null,
      "outputs": [
        {
          "output_type": "execute_result",
          "data": {
            "text/plain": [
              "(2, 4)"
            ]
          },
          "metadata": {},
          "execution_count": 22
        }
      ]
    },
    {
      "cell_type": "code",
      "source": [
        "#14\n",
        "import os\n",
        "_, filename = os.path.split('/home/luciano/.ssh/idrsa.pub')\n",
        "filename"
      ],
      "metadata": {
        "colab": {
          "base_uri": "https://localhost:8080/",
          "height": 35
        },
        "id": "2ac5TxgwIDpb",
        "outputId": "5945a9dc-ace7-4816-931b-4d4386b52e09"
      },
      "execution_count": null,
      "outputs": [
        {
          "output_type": "execute_result",
          "data": {
            "text/plain": [
              "'idrsa.pub'"
            ],
            "application/vnd.google.colaboratory.intrinsic+json": {
              "type": "string"
            }
          },
          "metadata": {},
          "execution_count": 17
        }
      ]
    },
    {
      "cell_type": "code",
      "source": [
        "#15\n",
        "a,b,*rest = range(5)\n",
        "a,b,rest"
      ],
      "metadata": {
        "colab": {
          "base_uri": "https://localhost:8080/"
        },
        "id": "yR_k6n7iIDjy",
        "outputId": "59c9041b-4b35-4647-e775-35426aab6364"
      },
      "execution_count": null,
      "outputs": [
        {
          "output_type": "execute_result",
          "data": {
            "text/plain": [
              "(0, 1, [2, 3, 4])"
            ]
          },
          "metadata": {},
          "execution_count": 25
        }
      ]
    },
    {
      "cell_type": "code",
      "source": [
        "a,b,*rest = range(3)\n",
        "a,b,rest"
      ],
      "metadata": {
        "colab": {
          "base_uri": "https://localhost:8080/"
        },
        "id": "EUgEaQ1QIDgK",
        "outputId": "b55125f1-efb9-48bb-e6bc-72ab2cda4191"
      },
      "execution_count": null,
      "outputs": [
        {
          "output_type": "execute_result",
          "data": {
            "text/plain": [
              "(0, 1, [2])"
            ]
          },
          "metadata": {},
          "execution_count": 24
        }
      ]
    },
    {
      "cell_type": "code",
      "source": [
        "a,b,*rest = range(2)\n",
        "a,b,rest"
      ],
      "metadata": {
        "colab": {
          "base_uri": "https://localhost:8080/"
        },
        "id": "p6MT8jfcIDc7",
        "outputId": "0396d808-2189-4a75-e236-d7a13ccdfae3"
      },
      "execution_count": null,
      "outputs": [
        {
          "output_type": "execute_result",
          "data": {
            "text/plain": [
              "(0, 1, [])"
            ]
          },
          "metadata": {},
          "execution_count": 23
        }
      ]
    },
    {
      "cell_type": "code",
      "source": [
        "#16\n",
        "a, *body, c, d = range(5)\n",
        "a, body, c, d"
      ],
      "metadata": {
        "colab": {
          "base_uri": "https://localhost:8080/"
        },
        "id": "LBFLJBjLNa9x",
        "outputId": "e62b9573-c513-4aa6-c707-edc650f90360"
      },
      "execution_count": null,
      "outputs": [
        {
          "output_type": "execute_result",
          "data": {
            "text/plain": [
              "(0, [1, 2], 3, 4)"
            ]
          },
          "metadata": {},
          "execution_count": 26
        }
      ]
    },
    {
      "cell_type": "code",
      "source": [
        "*head, b, c, d = range(5)\n",
        "head, b, c, d"
      ],
      "metadata": {
        "colab": {
          "base_uri": "https://localhost:8080/"
        },
        "id": "bs84kTO3Na6o",
        "outputId": "9faf3da9-49a4-4675-a509-e72355e5da50"
      },
      "execution_count": null,
      "outputs": [
        {
          "output_type": "execute_result",
          "data": {
            "text/plain": [
              "([0, 1], 2, 3, 4)"
            ]
          },
          "metadata": {},
          "execution_count": 27
        }
      ]
    },
    {
      "cell_type": "code",
      "source": [
        "#17\n",
        "metro_areas = [\n",
        "    ('Tokyo', 'JP', 36.933, (35, 139)),\n",
        "    (\"Delhi NCR\", \"IN\", 21, (28, 77)),\n",
        "    (\"Mexico City\", \"MX\", 20, (19, -99)),\n",
        "    (\"New York-Newark\", \"US\", 20, (40, -74)),\n",
        "    (\"Sao Paulo\", \"BR\", 19, (-23, -46))\n",
        "]\n",
        "\n",
        "print(\"{:15} | {:^9} | {:^9}\".format('' , 'lat.', 'long.'))\n",
        "fmt = '{:15} | {:9.4f} | {:9.4f}'\n",
        "for name, cc, pop, (lat, longi) in metro_areas:\n",
        "  if longi <= 0:\n",
        "    print(fmt.format(name, lat, longi))"
      ],
      "metadata": {
        "colab": {
          "base_uri": "https://localhost:8080/"
        },
        "id": "zxiuJJCdNa0Q",
        "outputId": "2d0210b9-325b-47e8-cd85-55330d98bf9e"
      },
      "execution_count": null,
      "outputs": [
        {
          "output_type": "stream",
          "name": "stdout",
          "text": [
            "                |   lat.    |   long.  \n",
            "Mexico City     |   19.0000 |  -99.0000\n",
            "New York-Newark |   40.0000 |  -74.0000\n",
            "Sao Paulo       |  -23.0000 |  -46.0000\n"
          ]
        }
      ]
    },
    {
      "cell_type": "code",
      "source": [
        "#18\n",
        "from collections import namedtuple\n",
        "City = namedtuple('City', 'name country population coordinates')\n",
        "tokyo = City('Tokyo', 'JP', 36.933, (35.689, 139.691))\n",
        "tokyo"
      ],
      "metadata": {
        "id": "rHhqEidjNauA",
        "colab": {
          "base_uri": "https://localhost:8080/"
        },
        "outputId": "32596f62-0128-4efd-de64-4bd0029b9d98"
      },
      "execution_count": null,
      "outputs": [
        {
          "output_type": "execute_result",
          "data": {
            "text/plain": [
              "City(name='Tokyo', country='JP', population=36.933, coordinates=(35.689, 139.691))"
            ]
          },
          "metadata": {},
          "execution_count": 3
        }
      ]
    },
    {
      "cell_type": "code",
      "source": [
        "tokyo.population"
      ],
      "metadata": {
        "id": "DyTB6ZzPNarI",
        "colab": {
          "base_uri": "https://localhost:8080/"
        },
        "outputId": "ecab8f1f-03f3-4624-afc7-a5a5cdeef94e"
      },
      "execution_count": null,
      "outputs": [
        {
          "output_type": "execute_result",
          "data": {
            "text/plain": [
              "36.933"
            ]
          },
          "metadata": {},
          "execution_count": 4
        }
      ]
    },
    {
      "cell_type": "code",
      "source": [
        "tokyo.coordinates"
      ],
      "metadata": {
        "colab": {
          "base_uri": "https://localhost:8080/"
        },
        "id": "c2OQJDQ5muD8",
        "outputId": "66629621-f386-45c5-d702-ce89a195c0a9"
      },
      "execution_count": null,
      "outputs": [
        {
          "output_type": "execute_result",
          "data": {
            "text/plain": [
              "(35.689, 139.691)"
            ]
          },
          "metadata": {},
          "execution_count": 5
        }
      ]
    },
    {
      "cell_type": "code",
      "source": [
        "tokyo[1]"
      ],
      "metadata": {
        "colab": {
          "base_uri": "https://localhost:8080/",
          "height": 35
        },
        "id": "_SB4ZWmrmuBM",
        "outputId": "9d73dd14-5b64-4d2d-f166-40bef7e3fcc7"
      },
      "execution_count": null,
      "outputs": [
        {
          "output_type": "execute_result",
          "data": {
            "text/plain": [
              "'JP'"
            ],
            "application/vnd.google.colaboratory.intrinsic+json": {
              "type": "string"
            }
          },
          "metadata": {},
          "execution_count": 6
        }
      ]
    },
    {
      "cell_type": "code",
      "source": [
        "#19\n",
        "City._fields"
      ],
      "metadata": {
        "colab": {
          "base_uri": "https://localhost:8080/"
        },
        "id": "9_P6lTQgmt-U",
        "outputId": "effcab3d-8437-4753-e74e-1cddf570c4f1"
      },
      "execution_count": null,
      "outputs": [
        {
          "output_type": "execute_result",
          "data": {
            "text/plain": [
              "('name', 'country', 'population', 'coordinates')"
            ]
          },
          "metadata": {},
          "execution_count": 7
        }
      ]
    },
    {
      "cell_type": "code",
      "source": [
        "LatLong = namedtuple('LatLong', 'Lat long')\n",
        "delhi_data = ('Delhi NCR', 'IN', 21.935, LatLong(28.613, 77.208))"
      ],
      "metadata": {
        "id": "lKFiPRFsmt68"
      },
      "execution_count": null,
      "outputs": []
    },
    {
      "cell_type": "code",
      "source": [
        "delhi = City._make(delhi_data)\n",
        "delhi._asdict()\n"
      ],
      "metadata": {
        "colab": {
          "base_uri": "https://localhost:8080/"
        },
        "id": "X_cPhVi9mt4L",
        "outputId": "1019095d-084d-47ce-c3fa-498aaeb308d4"
      },
      "execution_count": null,
      "outputs": [
        {
          "output_type": "execute_result",
          "data": {
            "text/plain": [
              "{'name': 'Delhi NCR',\n",
              " 'country': 'IN',\n",
              " 'population': 21.935,\n",
              " 'coordinates': LatLong(Lat=28.613, long=77.208)}"
            ]
          },
          "metadata": {},
          "execution_count": 9
        }
      ]
    },
    {
      "cell_type": "code",
      "source": [
        "for key, value in delhi._asdict().items():\n",
        "  print(key + ': ', value)"
      ],
      "metadata": {
        "colab": {
          "base_uri": "https://localhost:8080/"
        },
        "id": "G-xjmf70mt1c",
        "outputId": "61b4d9f6-c04c-4ab8-dcf0-d1045a4c8856"
      },
      "execution_count": null,
      "outputs": [
        {
          "output_type": "stream",
          "name": "stdout",
          "text": [
            "name:  Delhi NCR\n",
            "country:  IN\n",
            "population:  21.935\n",
            "coordinates:  LatLong(Lat=28.613, long=77.208)\n"
          ]
        }
      ]
    },
    {
      "cell_type": "code",
      "source": [
        "#20\n",
        "l = [10, 20 , 30, 40, 50, 60]\n",
        "l[:2]"
      ],
      "metadata": {
        "colab": {
          "base_uri": "https://localhost:8080/"
        },
        "id": "75zG3GFlmtyt",
        "outputId": "08029413-4693-4b47-90e3-e70a0cd71251"
      },
      "execution_count": null,
      "outputs": [
        {
          "output_type": "execute_result",
          "data": {
            "text/plain": [
              "[10, 20]"
            ]
          },
          "metadata": {},
          "execution_count": 11
        }
      ]
    },
    {
      "cell_type": "code",
      "source": [
        "l[2:]"
      ],
      "metadata": {
        "colab": {
          "base_uri": "https://localhost:8080/"
        },
        "id": "TtUOi2KjoH9a",
        "outputId": "e3c82709-9f9c-42e7-f40b-490ecb55d363"
      },
      "execution_count": null,
      "outputs": [
        {
          "output_type": "execute_result",
          "data": {
            "text/plain": [
              "[30, 40, 50, 60]"
            ]
          },
          "metadata": {},
          "execution_count": 12
        }
      ]
    },
    {
      "cell_type": "code",
      "source": [
        "l[:3]"
      ],
      "metadata": {
        "colab": {
          "base_uri": "https://localhost:8080/"
        },
        "id": "6_2XVzf3oH6Q",
        "outputId": "f9dedf28-06da-411f-cfeb-08bfeaa4f159"
      },
      "execution_count": null,
      "outputs": [
        {
          "output_type": "execute_result",
          "data": {
            "text/plain": [
              "[10, 20, 30]"
            ]
          },
          "metadata": {},
          "execution_count": 13
        }
      ]
    },
    {
      "cell_type": "code",
      "source": [
        "l[3:]"
      ],
      "metadata": {
        "colab": {
          "base_uri": "https://localhost:8080/"
        },
        "id": "J7IE_DIboH25",
        "outputId": "1c396904-b631-4c44-e3ff-4dfce146bb84"
      },
      "execution_count": null,
      "outputs": [
        {
          "output_type": "execute_result",
          "data": {
            "text/plain": [
              "[40, 50, 60]"
            ]
          },
          "metadata": {},
          "execution_count": 14
        }
      ]
    },
    {
      "cell_type": "code",
      "source": [
        "#21\n",
        "invoice = \"\"\"\n",
        "0.....6...................25..........33......40..........\n",
        "1909  Pimooroni              $17.50      3       $52.50\n",
        "1489  6mm Tactile            $4.95       2       $9.90\n",
        "\"\"\"\n",
        "\n",
        "SKU = slice(0,6)\n",
        "DESCRIPTION = slice(6,25)\n",
        "UNIT_PRICE = slice(25,33)\n",
        "QUANTITY = slice(33,40)\n",
        "ITEM_TOTAL = slice(40,None)\n",
        "\n",
        "line_items = invoice.split('\\n')[2:]\n",
        "for item in line_items:\n",
        "  print(item[UNIT_PRICE], item[DESCRIPTION])"
      ],
      "metadata": {
        "colab": {
          "base_uri": "https://localhost:8080/"
        },
        "id": "rzar64PuoHzq",
        "outputId": "7a456248-8de0-4105-e8cf-583cbbad35cf"
      },
      "execution_count": null,
      "outputs": [
        {
          "output_type": "stream",
          "name": "stdout",
          "text": [
            "    $17. Pimooroni          \n",
            "    $4.9 6mm Tactile        \n",
            " \n"
          ]
        }
      ]
    },
    {
      "cell_type": "code",
      "source": [
        "#22\n",
        "l = list(range(10))\n",
        "l"
      ],
      "metadata": {
        "colab": {
          "base_uri": "https://localhost:8080/"
        },
        "id": "u-BAEiZMoHwi",
        "outputId": "f3ab066b-cd1d-415a-ecb1-110ece54af7e"
      },
      "execution_count": null,
      "outputs": [
        {
          "output_type": "execute_result",
          "data": {
            "text/plain": [
              "[0, 1, 2, 3, 4, 5, 6, 7, 8, 9]"
            ]
          },
          "metadata": {},
          "execution_count": 23
        }
      ]
    },
    {
      "cell_type": "code",
      "source": [
        "l[2:5] = [20,30]\n",
        "l"
      ],
      "metadata": {
        "colab": {
          "base_uri": "https://localhost:8080/"
        },
        "id": "WhTer8QPoHta",
        "outputId": "310860e1-5490-41e2-b1ba-e7ac504c02aa"
      },
      "execution_count": null,
      "outputs": [
        {
          "output_type": "execute_result",
          "data": {
            "text/plain": [
              "[0, 1, 20, 30, 5, 6, 7, 8, 9]"
            ]
          },
          "metadata": {},
          "execution_count": 24
        }
      ]
    },
    {
      "cell_type": "code",
      "source": [
        "del l[5:7]\n",
        "l\n"
      ],
      "metadata": {
        "colab": {
          "base_uri": "https://localhost:8080/"
        },
        "id": "j27CFloSoHqB",
        "outputId": "45fade86-22d9-4304-9a1b-e12e234276ca"
      },
      "execution_count": null,
      "outputs": [
        {
          "output_type": "execute_result",
          "data": {
            "text/plain": [
              "[0, 1, 20, 30, 5, 8, 9]"
            ]
          },
          "metadata": {},
          "execution_count": 25
        }
      ]
    },
    {
      "cell_type": "code",
      "source": [
        "l[3::2] = [11,22]\n",
        "l"
      ],
      "metadata": {
        "colab": {
          "base_uri": "https://localhost:8080/"
        },
        "id": "oZhtS7YLqKDw",
        "outputId": "c3516db2-3abb-40db-c0a5-cef85dcc6001"
      },
      "execution_count": null,
      "outputs": [
        {
          "output_type": "execute_result",
          "data": {
            "text/plain": [
              "[0, 1, 20, 11, 5, 22, 9]"
            ]
          },
          "metadata": {},
          "execution_count": 26
        }
      ]
    },
    {
      "cell_type": "code",
      "source": [
        "#23\n",
        "l[2:5] = 100\n"
      ],
      "metadata": {
        "colab": {
          "base_uri": "https://localhost:8080/",
          "height": 166
        },
        "id": "pWQdu0M9qKAo",
        "outputId": "9ce5483b-0e01-4f70-a2fc-3b63b71a2715"
      },
      "execution_count": null,
      "outputs": [
        {
          "output_type": "error",
          "ename": "TypeError",
          "evalue": "can only assign an iterable",
          "traceback": [
            "\u001b[0;31m---------------------------------------------------------------------------\u001b[0m",
            "\u001b[0;31mTypeError\u001b[0m                                 Traceback (most recent call last)",
            "\u001b[0;32m<ipython-input-27-f6ebce8fcb50>\u001b[0m in \u001b[0;36m<cell line: 2>\u001b[0;34m()\u001b[0m\n\u001b[1;32m      1\u001b[0m \u001b[0;31m#23\u001b[0m\u001b[0;34m\u001b[0m\u001b[0;34m\u001b[0m\u001b[0m\n\u001b[0;32m----> 2\u001b[0;31m \u001b[0ml\u001b[0m\u001b[0;34m[\u001b[0m\u001b[0;36m2\u001b[0m\u001b[0;34m:\u001b[0m\u001b[0;36m5\u001b[0m\u001b[0;34m]\u001b[0m \u001b[0;34m=\u001b[0m \u001b[0;36m100\u001b[0m\u001b[0;34m\u001b[0m\u001b[0;34m\u001b[0m\u001b[0m\n\u001b[0m",
            "\u001b[0;31mTypeError\u001b[0m: can only assign an iterable"
          ]
        }
      ]
    },
    {
      "cell_type": "code",
      "source": [
        "#24\n",
        "l[2:5] = [100]\n",
        "l\n"
      ],
      "metadata": {
        "colab": {
          "base_uri": "https://localhost:8080/"
        },
        "id": "kCSANmkXqJ9q",
        "outputId": "3b3b75b1-3441-44d5-c8d0-0e6d81789834"
      },
      "execution_count": null,
      "outputs": [
        {
          "output_type": "execute_result",
          "data": {
            "text/plain": [
              "[0, 1, 100, 22, 9]"
            ]
          },
          "metadata": {},
          "execution_count": 28
        }
      ]
    },
    {
      "cell_type": "code",
      "source": [
        "#25\n",
        "l = [1,2,3]\n",
        "l*5\n"
      ],
      "metadata": {
        "colab": {
          "base_uri": "https://localhost:8080/"
        },
        "id": "MIj5MyL8qJ6o",
        "outputId": "8f1080f4-660d-4b2c-f806-eb04cff2178f"
      },
      "execution_count": null,
      "outputs": [
        {
          "output_type": "execute_result",
          "data": {
            "text/plain": [
              "[1, 2, 3, 1, 2, 3, 1, 2, 3, 1, 2, 3, 1, 2, 3]"
            ]
          },
          "metadata": {},
          "execution_count": 29
        }
      ]
    },
    {
      "cell_type": "code",
      "source": [
        "5*'abcd'"
      ],
      "metadata": {
        "colab": {
          "base_uri": "https://localhost:8080/",
          "height": 35
        },
        "id": "LYSY8rFXqJ3w",
        "outputId": "87265455-a27a-41b6-8ddf-fecf0bbbb9f2"
      },
      "execution_count": null,
      "outputs": [
        {
          "output_type": "execute_result",
          "data": {
            "text/plain": [
              "'abcdabcdabcdabcdabcd'"
            ],
            "application/vnd.google.colaboratory.intrinsic+json": {
              "type": "string"
            }
          },
          "metadata": {},
          "execution_count": 30
        }
      ]
    },
    {
      "cell_type": "code",
      "source": [
        "#26\n",
        "board = [['_'] * 3 for i in range(3)]\n",
        "board"
      ],
      "metadata": {
        "colab": {
          "base_uri": "https://localhost:8080/"
        },
        "id": "fLjvtQADqJ0o",
        "outputId": "677a7dbc-d4b6-4db0-c94f-27588cb39e51"
      },
      "execution_count": null,
      "outputs": [
        {
          "output_type": "execute_result",
          "data": {
            "text/plain": [
              "[['_', '_', '_'], ['_', '_', '_'], ['_', '_', '_']]"
            ]
          },
          "metadata": {},
          "execution_count": 31
        }
      ]
    },
    {
      "cell_type": "code",
      "source": [
        "board[1][2] = 'x'\n",
        "board\n",
        "\n"
      ],
      "metadata": {
        "colab": {
          "base_uri": "https://localhost:8080/"
        },
        "id": "ej-lbrFQqJtB",
        "outputId": "3ef70c50-ea96-4ffe-88ef-4235f9034b8b"
      },
      "execution_count": null,
      "outputs": [
        {
          "output_type": "execute_result",
          "data": {
            "text/plain": [
              "[['_', '_', '_'], ['_', '_', 'x'], ['_', '_', '_']]"
            ]
          },
          "metadata": {},
          "execution_count": 32
        }
      ]
    },
    {
      "cell_type": "code",
      "source": [
        "#27\n",
        "weird_board = [['_'] * 3]*3\n",
        "weird_board"
      ],
      "metadata": {
        "id": "3rbFzTj4qeFf",
        "colab": {
          "base_uri": "https://localhost:8080/"
        },
        "outputId": "88609fba-c618-4f7e-a3fa-1f4aebc4c9f1"
      },
      "execution_count": null,
      "outputs": [
        {
          "output_type": "execute_result",
          "data": {
            "text/plain": [
              "[['_', '_', '_'], ['_', '_', '_'], ['_', '_', '_']]"
            ]
          },
          "metadata": {},
          "execution_count": 1
        }
      ]
    },
    {
      "cell_type": "code",
      "source": [
        "weird_board [1][2] = '0'\n",
        "weird_board"
      ],
      "metadata": {
        "id": "7qKOGr2E9Iq-",
        "colab": {
          "base_uri": "https://localhost:8080/"
        },
        "outputId": "7d16f122-2d28-4fa6-dccc-14fbd2455a9a"
      },
      "execution_count": null,
      "outputs": [
        {
          "output_type": "execute_result",
          "data": {
            "text/plain": [
              "[['_', '_', '0'], ['_', '_', '0'], ['_', '_', '0']]"
            ]
          },
          "metadata": {},
          "execution_count": 3
        }
      ]
    },
    {
      "cell_type": "code",
      "source": [
        "#28\n",
        "row = ['_'] * 3\n",
        "board = []\n",
        "for i in range(3):\n",
        "  board.append(row)\n",
        "\n",
        "board[1][2] = 'X'\n",
        "board"
      ],
      "metadata": {
        "id": "wYlVtHH8qeCw",
        "colab": {
          "base_uri": "https://localhost:8080/"
        },
        "outputId": "a4c598da-872e-43f6-e774-68dd1ef11fdd"
      },
      "execution_count": null,
      "outputs": [
        {
          "output_type": "execute_result",
          "data": {
            "text/plain": [
              "[['_', '_', 'X'], ['_', '_', 'X'], ['_', '_', 'X']]"
            ]
          },
          "metadata": {},
          "execution_count": 4
        }
      ]
    },
    {
      "cell_type": "code",
      "source": [
        "board = []\n",
        "for i in range(3):\n",
        "  row = ['_'] *3\n",
        "  board.append(row)\n",
        "\n",
        "print(board)\n",
        "\n",
        "\n",
        "board[2][0] = 'X'\n",
        "\n",
        "board"
      ],
      "metadata": {
        "id": "ELzEM8P8qd_G",
        "colab": {
          "base_uri": "https://localhost:8080/"
        },
        "outputId": "e35f9992-ee5e-46f1-c5b0-41a6a393763a"
      },
      "execution_count": null,
      "outputs": [
        {
          "output_type": "stream",
          "name": "stdout",
          "text": [
            "[['_', '_', '_'], ['_', '_', '_'], ['_', '_', '_']]\n"
          ]
        },
        {
          "output_type": "execute_result",
          "data": {
            "text/plain": [
              "[['_', '_', '_'], ['_', '_', '_'], ['X', '_', '_']]"
            ]
          },
          "metadata": {},
          "execution_count": 6
        }
      ]
    },
    {
      "cell_type": "code",
      "source": [
        "#30\n",
        "l = [1,2,3]\n",
        "id(l)"
      ],
      "metadata": {
        "id": "g2-CZhCdqd7_",
        "colab": {
          "base_uri": "https://localhost:8080/"
        },
        "outputId": "0ade6776-4899-4a68-d1b0-4763a1d9bf18"
      },
      "execution_count": null,
      "outputs": [
        {
          "output_type": "execute_result",
          "data": {
            "text/plain": [
              "138348934192832"
            ]
          },
          "metadata": {},
          "execution_count": 7
        }
      ]
    },
    {
      "cell_type": "code",
      "source": [
        "l *= 2\n",
        "l"
      ],
      "metadata": {
        "id": "pQgAPkHbqd2g",
        "colab": {
          "base_uri": "https://localhost:8080/"
        },
        "outputId": "710edde5-edd1-404a-d0f9-8152a0bc3f5e"
      },
      "execution_count": null,
      "outputs": [
        {
          "output_type": "execute_result",
          "data": {
            "text/plain": [
              "[1, 2, 3, 1, 2, 3]"
            ]
          },
          "metadata": {},
          "execution_count": 8
        }
      ]
    },
    {
      "cell_type": "code",
      "source": [
        "id(l)"
      ],
      "metadata": {
        "colab": {
          "base_uri": "https://localhost:8080/"
        },
        "id": "rbo6Iach5JDV",
        "outputId": "2d508582-cff2-4bab-82b1-147ca952846a"
      },
      "execution_count": null,
      "outputs": [
        {
          "output_type": "execute_result",
          "data": {
            "text/plain": [
              "138348934192832"
            ]
          },
          "metadata": {},
          "execution_count": 9
        }
      ]
    },
    {
      "cell_type": "code",
      "source": [
        "#31\n",
        "t = (1,2,3)\n",
        "id(t)\n"
      ],
      "metadata": {
        "colab": {
          "base_uri": "https://localhost:8080/"
        },
        "id": "OSaVnwUv5I_8",
        "outputId": "4978e08f-fa48-4407-8c3d-ffd065160cd6"
      },
      "execution_count": null,
      "outputs": [
        {
          "output_type": "execute_result",
          "data": {
            "text/plain": [
              "138348935812864"
            ]
          },
          "metadata": {},
          "execution_count": 10
        }
      ]
    },
    {
      "cell_type": "code",
      "source": [
        "t *= 2\n",
        "id(t)"
      ],
      "metadata": {
        "colab": {
          "base_uri": "https://localhost:8080/"
        },
        "id": "pjV7NFm05I85",
        "outputId": "2681017b-7633-405e-f660-cdb36a47a0dc"
      },
      "execution_count": null,
      "outputs": [
        {
          "output_type": "execute_result",
          "data": {
            "text/plain": [
              "138348934279136"
            ]
          },
          "metadata": {},
          "execution_count": 11
        }
      ]
    },
    {
      "cell_type": "code",
      "source": [
        "#32\n",
        "t = (1,2,[30, 40])\n",
        "print(t)\n",
        "\n",
        "t[2] += [50,60]\n",
        "\n",
        "'''\n",
        "t는 (1,2,[30,40,50,60])이 된다\n",
        "'튜플 객체는 항목 할당을 지원하지 않는다.는 메시지와 함께 TypeError가 발생한다.\n",
        "a와 b 둘다 틀리다.\n",
        "a와 b 둘다 틀리다.\n",
        "'''"
      ],
      "metadata": {
        "colab": {
          "base_uri": "https://localhost:8080/",
          "height": 204
        },
        "id": "ET3jCtgN5I6G",
        "outputId": "591f8737-b004-443b-a95f-97ceea4836a3"
      },
      "execution_count": null,
      "outputs": [
        {
          "output_type": "stream",
          "name": "stdout",
          "text": [
            "(1, 2, [30, 40])\n"
          ]
        },
        {
          "output_type": "error",
          "ename": "TypeError",
          "evalue": "'tuple' object does not support item assignment",
          "traceback": [
            "\u001b[0;31m---------------------------------------------------------------------------\u001b[0m",
            "\u001b[0;31mTypeError\u001b[0m                                 Traceback (most recent call last)",
            "\u001b[0;32m<ipython-input-12-4dfe533de0c9>\u001b[0m in \u001b[0;36m<cell line: 5>\u001b[0;34m()\u001b[0m\n\u001b[1;32m      3\u001b[0m \u001b[0mprint\u001b[0m\u001b[0;34m(\u001b[0m\u001b[0mt\u001b[0m\u001b[0;34m)\u001b[0m\u001b[0;34m\u001b[0m\u001b[0;34m\u001b[0m\u001b[0m\n\u001b[1;32m      4\u001b[0m \u001b[0;34m\u001b[0m\u001b[0m\n\u001b[0;32m----> 5\u001b[0;31m \u001b[0mt\u001b[0m\u001b[0;34m[\u001b[0m\u001b[0;36m2\u001b[0m\u001b[0;34m]\u001b[0m \u001b[0;34m+=\u001b[0m \u001b[0;34m[\u001b[0m\u001b[0;36m50\u001b[0m\u001b[0;34m,\u001b[0m\u001b[0;36m60\u001b[0m\u001b[0;34m]\u001b[0m\u001b[0;34m\u001b[0m\u001b[0;34m\u001b[0m\u001b[0m\n\u001b[0m",
            "\u001b[0;31mTypeError\u001b[0m: 'tuple' object does not support item assignment"
          ]
        }
      ]
    },
    {
      "cell_type": "code",
      "source": [
        "#33\n",
        "print(t)"
      ],
      "metadata": {
        "colab": {
          "base_uri": "https://localhost:8080/"
        },
        "id": "C0HUFAj95I24",
        "outputId": "4f360957-52b2-4cdf-b86a-faa024c0c332"
      },
      "execution_count": null,
      "outputs": [
        {
          "output_type": "stream",
          "name": "stdout",
          "text": [
            "(1, 2, [30, 40, 50, 60])\n"
          ]
        }
      ]
    },
    {
      "cell_type": "code",
      "source": [
        "#34\n",
        "fruits = ['grape', 'raspberry', 'apple','banana']\n",
        "sorted(fruits)"
      ],
      "metadata": {
        "colab": {
          "base_uri": "https://localhost:8080/"
        },
        "id": "rUNjJ0625I0L",
        "outputId": "4fd0915b-4f1d-46e1-e4c3-35923c810c18"
      },
      "execution_count": null,
      "outputs": [
        {
          "output_type": "execute_result",
          "data": {
            "text/plain": [
              "['apple', 'banana', 'grape', 'raspberry']"
            ]
          },
          "metadata": {},
          "execution_count": 14
        }
      ]
    },
    {
      "cell_type": "code",
      "source": [
        "fruits"
      ],
      "metadata": {
        "colab": {
          "base_uri": "https://localhost:8080/"
        },
        "id": "ycwZQy0a5IxK",
        "outputId": "26b2f8d6-1592-4a47-b661-2f60382f9365"
      },
      "execution_count": null,
      "outputs": [
        {
          "output_type": "execute_result",
          "data": {
            "text/plain": [
              "['apple', 'banana', 'grape', 'raspberry']"
            ]
          },
          "metadata": {},
          "execution_count": 21
        }
      ]
    },
    {
      "cell_type": "code",
      "source": [
        "sorted(fruits, reverse=True)"
      ],
      "metadata": {
        "colab": {
          "base_uri": "https://localhost:8080/"
        },
        "id": "mDtxdu7Q5Itm",
        "outputId": "dd9c5885-aaa4-4e6d-94ff-1bb5731c600f"
      },
      "execution_count": null,
      "outputs": [
        {
          "output_type": "execute_result",
          "data": {
            "text/plain": [
              "['raspberry', 'grape', 'banana', 'apple']"
            ]
          },
          "metadata": {},
          "execution_count": 22
        }
      ]
    },
    {
      "cell_type": "code",
      "source": [
        "sorted(fruits, key=len)"
      ],
      "metadata": {
        "colab": {
          "base_uri": "https://localhost:8080/"
        },
        "id": "8plbonl26YoA",
        "outputId": "692ff228-a3dc-4f8d-e891-cb65e4f2698a"
      },
      "execution_count": null,
      "outputs": [
        {
          "output_type": "execute_result",
          "data": {
            "text/plain": [
              "['apple', 'grape', 'banana', 'raspberry']"
            ]
          },
          "metadata": {},
          "execution_count": 23
        }
      ]
    },
    {
      "cell_type": "code",
      "source": [
        "#35\n",
        "sorted(fruits, key=len, reverse=True)"
      ],
      "metadata": {
        "colab": {
          "base_uri": "https://localhost:8080/"
        },
        "id": "-YMWE_-h6Ykt",
        "outputId": "9dcb5283-4e0a-46e4-8a62-ece49b76eb89"
      },
      "execution_count": null,
      "outputs": [
        {
          "output_type": "execute_result",
          "data": {
            "text/plain": [
              "['raspberry', 'banana', 'apple', 'grape']"
            ]
          },
          "metadata": {},
          "execution_count": 25
        }
      ]
    },
    {
      "cell_type": "code",
      "source": [
        "fruits"
      ],
      "metadata": {
        "colab": {
          "base_uri": "https://localhost:8080/"
        },
        "id": "5zfrtebR6Yhw",
        "outputId": "87773356-51b3-4da6-ba54-976762022f0f"
      },
      "execution_count": null,
      "outputs": [
        {
          "output_type": "execute_result",
          "data": {
            "text/plain": [
              "['apple', 'banana', 'grape', 'raspberry']"
            ]
          },
          "metadata": {},
          "execution_count": 26
        }
      ]
    },
    {
      "cell_type": "code",
      "source": [
        "fruits.sort()\n",
        "fruits"
      ],
      "metadata": {
        "colab": {
          "base_uri": "https://localhost:8080/"
        },
        "id": "HKaOV4fG6Yem",
        "outputId": "4637c790-56e2-4e06-8445-d14c1ecd965c"
      },
      "execution_count": null,
      "outputs": [
        {
          "output_type": "execute_result",
          "data": {
            "text/plain": [
              "['apple', 'banana', 'grape', 'raspberry']"
            ]
          },
          "metadata": {},
          "execution_count": 27
        }
      ]
    },
    {
      "cell_type": "code",
      "source": [
        "#36\n",
        "from array import array\n",
        "from random import random\n",
        "\n",
        "floats = array('d', (random() for _ in range(10**7)))\n",
        "floats[-1]"
      ],
      "metadata": {
        "colab": {
          "base_uri": "https://localhost:8080/"
        },
        "id": "LYulO2p46Ybf",
        "outputId": "39d20896-6656-4211-e142-44dd1179f89b"
      },
      "execution_count": null,
      "outputs": [
        {
          "output_type": "execute_result",
          "data": {
            "text/plain": [
              "0.2082431551424142"
            ]
          },
          "metadata": {},
          "execution_count": 28
        }
      ]
    },
    {
      "cell_type": "code",
      "source": [
        "#37\n",
        "with open('floats.bin', 'wb') as f:\n",
        "  floats.tofile(f)\n",
        "\n",
        "floats2 = array('d')\n",
        "\n",
        "with open('floats.bin', 'rb') as f:\n",
        "  floats2.fromfile(f, 10**7)\n",
        "\n",
        "floats2[-1]"
      ],
      "metadata": {
        "colab": {
          "base_uri": "https://localhost:8080/"
        },
        "id": "t0k_ergm6YW5",
        "outputId": "e0ec0a9c-8e57-49b5-e2f2-d41188e46215"
      },
      "execution_count": null,
      "outputs": [
        {
          "output_type": "execute_result",
          "data": {
            "text/plain": [
              "0.2082431551424142"
            ]
          },
          "metadata": {},
          "execution_count": 29
        }
      ]
    },
    {
      "cell_type": "code",
      "source": [
        "floats == floats2"
      ],
      "metadata": {
        "colab": {
          "base_uri": "https://localhost:8080/"
        },
        "id": "8DCwC_Yc6YTI",
        "outputId": "e2142118-3cad-414d-d4b9-044c91767ae6"
      },
      "execution_count": null,
      "outputs": [
        {
          "output_type": "execute_result",
          "data": {
            "text/plain": [
              "True"
            ]
          },
          "metadata": {},
          "execution_count": 30
        }
      ]
    },
    {
      "cell_type": "code",
      "source": [
        "#38\n",
        "import array\n",
        "numbers = array.array('h', [-2, -1, 0, 1, 2])\n",
        "memv = memoryview(numbers)\n",
        "len(memv)"
      ],
      "metadata": {
        "colab": {
          "base_uri": "https://localhost:8080/"
        },
        "id": "rcQ3rlUc69WT",
        "outputId": "9b3f8c8b-0eb6-479a-ca96-ee28685465d8"
      },
      "execution_count": null,
      "outputs": [
        {
          "output_type": "execute_result",
          "data": {
            "text/plain": [
              "5"
            ]
          },
          "metadata": {},
          "execution_count": 31
        }
      ]
    },
    {
      "cell_type": "code",
      "source": [
        "memv[0]"
      ],
      "metadata": {
        "colab": {
          "base_uri": "https://localhost:8080/"
        },
        "id": "gW7e0Xas69S8",
        "outputId": "ce882a9c-b517-448d-a205-a6e84c26802b"
      },
      "execution_count": null,
      "outputs": [
        {
          "output_type": "execute_result",
          "data": {
            "text/plain": [
              "-2"
            ]
          },
          "metadata": {},
          "execution_count": 34
        }
      ]
    },
    {
      "cell_type": "code",
      "source": [
        "memv_oct = memv.cast('B')\n",
        "memv_oct.tolist()"
      ],
      "metadata": {
        "colab": {
          "base_uri": "https://localhost:8080/"
        },
        "id": "1nBnROtA69O4",
        "outputId": "bd287be0-4358-419c-bc20-558724b7bbec"
      },
      "execution_count": null,
      "outputs": [
        {
          "output_type": "execute_result",
          "data": {
            "text/plain": [
              "[254, 255, 255, 255, 0, 0, 1, 0, 2, 0]"
            ]
          },
          "metadata": {},
          "execution_count": 35
        }
      ]
    },
    {
      "cell_type": "code",
      "source": [
        "memv_oct[5] = 4\n",
        "numbers"
      ],
      "metadata": {
        "colab": {
          "base_uri": "https://localhost:8080/"
        },
        "id": "80RomqM469LO",
        "outputId": "cf147f2e-3419-49da-b63f-d9edbe639fe8"
      },
      "execution_count": null,
      "outputs": [
        {
          "output_type": "execute_result",
          "data": {
            "text/plain": [
              "array('h', [-2, -1, 1024, 1, 2])"
            ]
          },
          "metadata": {},
          "execution_count": 36
        }
      ]
    },
    {
      "cell_type": "code",
      "source": [
        "#39\n",
        "import numpy\n",
        "a = numpy.arange(12)\n",
        "a"
      ],
      "metadata": {
        "colab": {
          "base_uri": "https://localhost:8080/"
        },
        "id": "hy8o94hD69Hd",
        "outputId": "517533d9-7172-44ef-b853-fc9a98e48b7f"
      },
      "execution_count": null,
      "outputs": [
        {
          "output_type": "execute_result",
          "data": {
            "text/plain": [
              "array([ 0,  1,  2,  3,  4,  5,  6,  7,  8,  9, 10, 11])"
            ]
          },
          "metadata": {},
          "execution_count": 37
        }
      ]
    },
    {
      "cell_type": "code",
      "source": [
        "type(a)"
      ],
      "metadata": {
        "colab": {
          "base_uri": "https://localhost:8080/"
        },
        "id": "FPHj7TPR69DW",
        "outputId": "d6c9d8dc-8b20-4e26-961e-c1b03ef6adb8"
      },
      "execution_count": null,
      "outputs": [
        {
          "output_type": "execute_result",
          "data": {
            "text/plain": [
              "numpy.ndarray"
            ]
          },
          "metadata": {},
          "execution_count": 38
        }
      ]
    },
    {
      "cell_type": "code",
      "source": [
        "#40\n",
        "a.shape"
      ],
      "metadata": {
        "colab": {
          "base_uri": "https://localhost:8080/"
        },
        "id": "-TK8qc138drG",
        "outputId": "188a7706-7047-45f1-9d89-c30282efba62"
      },
      "execution_count": null,
      "outputs": [
        {
          "output_type": "execute_result",
          "data": {
            "text/plain": [
              "(12,)"
            ]
          },
          "metadata": {},
          "execution_count": 39
        }
      ]
    },
    {
      "cell_type": "code",
      "source": [
        "a.shape = 3,4\n",
        "a"
      ],
      "metadata": {
        "colab": {
          "base_uri": "https://localhost:8080/"
        },
        "id": "nYAB6bin8dl8",
        "outputId": "15ae7330-dae0-48f9-9462-cd65ce89f015"
      },
      "execution_count": null,
      "outputs": [
        {
          "output_type": "execute_result",
          "data": {
            "text/plain": [
              "array([[ 0,  1,  2,  3],\n",
              "       [ 4,  5,  6,  7],\n",
              "       [ 8,  9, 10, 11]])"
            ]
          },
          "metadata": {},
          "execution_count": 40
        }
      ]
    },
    {
      "cell_type": "code",
      "source": [
        "#41\n",
        "a[2]"
      ],
      "metadata": {
        "colab": {
          "base_uri": "https://localhost:8080/"
        },
        "id": "6XcUtbD78dhp",
        "outputId": "780be025-ff44-4731-8d20-94d9a00da05d"
      },
      "execution_count": null,
      "outputs": [
        {
          "output_type": "execute_result",
          "data": {
            "text/plain": [
              "array([ 8,  9, 10, 11])"
            ]
          },
          "metadata": {},
          "execution_count": 41
        }
      ]
    },
    {
      "cell_type": "code",
      "source": [
        "a[2,1]\n"
      ],
      "metadata": {
        "colab": {
          "base_uri": "https://localhost:8080/"
        },
        "id": "MXPEOl9I8ddn",
        "outputId": "85bb266c-fecd-4589-956d-fe182f8b4c6a"
      },
      "execution_count": null,
      "outputs": [
        {
          "output_type": "execute_result",
          "data": {
            "text/plain": [
              "9"
            ]
          },
          "metadata": {},
          "execution_count": 42
        }
      ]
    },
    {
      "cell_type": "code",
      "source": [
        "a[:,1]"
      ],
      "metadata": {
        "colab": {
          "base_uri": "https://localhost:8080/"
        },
        "id": "FPmmdUpV8dYO",
        "outputId": "f586e03d-c37e-454d-c638-fd62210e7501"
      },
      "execution_count": null,
      "outputs": [
        {
          "output_type": "execute_result",
          "data": {
            "text/plain": [
              "array([1, 5, 9])"
            ]
          },
          "metadata": {},
          "execution_count": 43
        }
      ]
    },
    {
      "cell_type": "code",
      "source": [
        "a.transpose()"
      ],
      "metadata": {
        "colab": {
          "base_uri": "https://localhost:8080/"
        },
        "id": "MJrP4Pgy8dTX",
        "outputId": "469506f0-fd35-44d7-d68f-fcc51c2db826"
      },
      "execution_count": null,
      "outputs": [
        {
          "output_type": "execute_result",
          "data": {
            "text/plain": [
              "array([[ 0,  4,  8],\n",
              "       [ 1,  5,  9],\n",
              "       [ 2,  6, 10],\n",
              "       [ 3,  7, 11]])"
            ]
          },
          "metadata": {},
          "execution_count": 44
        }
      ]
    },
    {
      "cell_type": "code",
      "source": [
        "#43\n",
        "from collections import deque\n",
        "dq = deque(range(10), maxlen=10)\n",
        "dq"
      ],
      "metadata": {
        "colab": {
          "base_uri": "https://localhost:8080/"
        },
        "id": "9ywJafKt865I",
        "outputId": "466c5f36-ef02-46e3-b8aa-be934141163c"
      },
      "execution_count": null,
      "outputs": [
        {
          "output_type": "execute_result",
          "data": {
            "text/plain": [
              "deque([0, 1, 2, 3, 4, 5, 6, 7, 8, 9])"
            ]
          },
          "metadata": {},
          "execution_count": 51
        }
      ]
    },
    {
      "cell_type": "code",
      "source": [
        "dq.rotate(3)\n",
        "dq"
      ],
      "metadata": {
        "colab": {
          "base_uri": "https://localhost:8080/"
        },
        "id": "FaQifjOl875D",
        "outputId": "1a673081-6b26-44eb-ca00-a4d8a7181403"
      },
      "execution_count": null,
      "outputs": [
        {
          "output_type": "execute_result",
          "data": {
            "text/plain": [
              "deque([7, 8, 9, 0, 1, 2, 3, 4, 5, 6])"
            ]
          },
          "metadata": {},
          "execution_count": 52
        }
      ]
    },
    {
      "cell_type": "code",
      "source": [
        "dq.rotate(-4)\n",
        "dq"
      ],
      "metadata": {
        "colab": {
          "base_uri": "https://localhost:8080/"
        },
        "id": "RzOlguWa871O",
        "outputId": "3848eabf-fbe8-4103-d07f-abc355cf19ec"
      },
      "execution_count": null,
      "outputs": [
        {
          "output_type": "execute_result",
          "data": {
            "text/plain": [
              "deque([1, 2, 3, 4, 5, 6, 7, 8, 9, 0])"
            ]
          },
          "metadata": {},
          "execution_count": 53
        }
      ]
    },
    {
      "cell_type": "code",
      "source": [
        "#44\n",
        "dq.appendleft(-1)\n",
        "dq"
      ],
      "metadata": {
        "colab": {
          "base_uri": "https://localhost:8080/"
        },
        "id": "5W-st3jR87xw",
        "outputId": "fb177349-bb52-48f1-e500-395235700875"
      },
      "execution_count": null,
      "outputs": [
        {
          "output_type": "execute_result",
          "data": {
            "text/plain": [
              "deque([-1, 1, 2, 3, 4, 5, 6, 7, 8, 9])"
            ]
          },
          "metadata": {},
          "execution_count": 54
        }
      ]
    },
    {
      "cell_type": "code",
      "source": [
        "dq.extend([11,22,33])\n",
        "dq"
      ],
      "metadata": {
        "colab": {
          "base_uri": "https://localhost:8080/"
        },
        "id": "VimG-ta287oz",
        "outputId": "cc9c6250-7f9c-4d64-9004-1777f33ca6c1"
      },
      "execution_count": null,
      "outputs": [
        {
          "output_type": "execute_result",
          "data": {
            "text/plain": [
              "deque([3, 4, 5, 6, 7, 8, 9, 11, 22, 33])"
            ]
          },
          "metadata": {},
          "execution_count": 55
        }
      ]
    },
    {
      "cell_type": "code",
      "source": [
        "dq.extendleft([10,20,30,40])\n",
        "dq"
      ],
      "metadata": {
        "colab": {
          "base_uri": "https://localhost:8080/"
        },
        "id": "Dmi7sa-h87lR",
        "outputId": "42c0f774-a2ac-4970-dde3-014a479198b2"
      },
      "execution_count": null,
      "outputs": [
        {
          "output_type": "execute_result",
          "data": {
            "text/plain": [
              "deque([40, 30, 20, 10, 3, 4, 5, 6, 7, 8])"
            ]
          },
          "metadata": {},
          "execution_count": 56
        }
      ]
    },
    {
      "cell_type": "code",
      "source": [],
      "metadata": {
        "id": "m2Xr7x6C87iQ"
      },
      "execution_count": null,
      "outputs": []
    },
    {
      "cell_type": "code",
      "source": [],
      "metadata": {
        "id": "db3CzBKH87eu"
      },
      "execution_count": null,
      "outputs": []
    },
    {
      "cell_type": "code",
      "source": [],
      "metadata": {
        "id": "Wc5CmTOa87bN"
      },
      "execution_count": null,
      "outputs": []
    }
  ]
}